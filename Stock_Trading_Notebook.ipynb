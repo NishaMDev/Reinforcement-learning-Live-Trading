{
 "cells": [
  {
   "cell_type": "code",
   "execution_count": 18,
   "metadata": {},
   "outputs": [],
   "source": [
    "import pandas as pd\n",
    "import glob"
   ]
  },
  {
   "cell_type": "code",
   "execution_count": 19,
   "metadata": {},
   "outputs": [],
   "source": [
    "df = pd.concat([pd.read_csv(f, sep=',') for f in glob.glob('data' + \"/AAPL_2*.csv\")],\n",
    "                      ignore_index=True)"
   ]
  },
  {
   "cell_type": "code",
   "execution_count": 20,
   "metadata": {},
   "outputs": [
    {
     "data": {
      "text/html": [
       "<div>\n",
       "<style scoped>\n",
       "    .dataframe tbody tr th:only-of-type {\n",
       "        vertical-align: middle;\n",
       "    }\n",
       "\n",
       "    .dataframe tbody tr th {\n",
       "        vertical-align: top;\n",
       "    }\n",
       "\n",
       "    .dataframe thead th {\n",
       "        text-align: right;\n",
       "    }\n",
       "</style>\n",
       "<table border=\"1\" class=\"dataframe\">\n",
       "  <thead>\n",
       "    <tr style=\"text-align: right;\">\n",
       "      <th></th>\n",
       "      <th>Date</th>\n",
       "      <th>Open</th>\n",
       "      <th>High</th>\n",
       "      <th>Low</th>\n",
       "      <th>Close</th>\n",
       "      <th>Volume</th>\n",
       "    </tr>\n",
       "  </thead>\n",
       "  <tbody>\n",
       "    <tr>\n",
       "      <th>0</th>\n",
       "      <td>11/18/2019</td>\n",
       "      <td>66.45</td>\n",
       "      <td>66.86</td>\n",
       "      <td>66.06</td>\n",
       "      <td>66.78</td>\n",
       "      <td>86,803,600</td>\n",
       "    </tr>\n",
       "    <tr>\n",
       "      <th>1</th>\n",
       "      <td>11/15/2019</td>\n",
       "      <td>65.92</td>\n",
       "      <td>66.45</td>\n",
       "      <td>65.75</td>\n",
       "      <td>66.44</td>\n",
       "      <td>100,374,680</td>\n",
       "    </tr>\n",
       "    <tr>\n",
       "      <th>2</th>\n",
       "      <td>11/14/2019</td>\n",
       "      <td>65.94</td>\n",
       "      <td>66.22</td>\n",
       "      <td>65.53</td>\n",
       "      <td>65.66</td>\n",
       "      <td>89,582,244</td>\n",
       "    </tr>\n",
       "    <tr>\n",
       "      <th>3</th>\n",
       "      <td>11/13/2019</td>\n",
       "      <td>65.28</td>\n",
       "      <td>66.20</td>\n",
       "      <td>65.27</td>\n",
       "      <td>66.12</td>\n",
       "      <td>103,270,360</td>\n",
       "    </tr>\n",
       "    <tr>\n",
       "      <th>4</th>\n",
       "      <td>11/12/2019</td>\n",
       "      <td>65.39</td>\n",
       "      <td>65.70</td>\n",
       "      <td>65.23</td>\n",
       "      <td>65.49</td>\n",
       "      <td>87,388,920</td>\n",
       "    </tr>\n",
       "  </tbody>\n",
       "</table>\n",
       "</div>"
      ],
      "text/plain": [
       "         Date   Open   High    Low  Close       Volume\n",
       "0  11/18/2019  66.45  66.86  66.06  66.78   86,803,600\n",
       "1  11/15/2019  65.92  66.45  65.75  66.44  100,374,680\n",
       "2  11/14/2019  65.94  66.22  65.53  65.66   89,582,244\n",
       "3  11/13/2019  65.28  66.20  65.27  66.12  103,270,360\n",
       "4  11/12/2019  65.39  65.70  65.23  65.49   87,388,920"
      ]
     },
     "execution_count": 20,
     "metadata": {},
     "output_type": "execute_result"
    }
   ],
   "source": [
    "df.head()"
   ]
  },
  {
   "cell_type": "code",
   "execution_count": 21,
   "metadata": {},
   "outputs": [
    {
     "data": {
      "text/plain": [
       "(1008, 6)"
      ]
     },
     "execution_count": 21,
     "metadata": {},
     "output_type": "execute_result"
    }
   ],
   "source": [
    "df.shape"
   ]
  },
  {
   "cell_type": "code",
   "execution_count": 22,
   "metadata": {},
   "outputs": [
    {
     "data": {
      "text/plain": [
       "Date       object\n",
       "Open      float64\n",
       "High      float64\n",
       "Low       float64\n",
       "Close     float64\n",
       "Volume     object\n",
       "dtype: object"
      ]
     },
     "execution_count": 22,
     "metadata": {},
     "output_type": "execute_result"
    }
   ],
   "source": [
    "df.dtypes"
   ]
  },
  {
   "cell_type": "code",
   "execution_count": 23,
   "metadata": {},
   "outputs": [],
   "source": [
    "df['Date'] = pd.to_datetime(df ['Date'])"
   ]
  },
  {
   "cell_type": "code",
   "execution_count": 24,
   "metadata": {},
   "outputs": [
    {
     "data": {
      "text/plain": [
       "Date      datetime64[ns]\n",
       "Open             float64\n",
       "High             float64\n",
       "Low              float64\n",
       "Close            float64\n",
       "Volume            object\n",
       "dtype: object"
      ]
     },
     "execution_count": 24,
     "metadata": {},
     "output_type": "execute_result"
    }
   ],
   "source": [
    "df.dtypes"
   ]
  },
  {
   "cell_type": "code",
   "execution_count": 25,
   "metadata": {},
   "outputs": [
    {
     "data": {
      "text/html": [
       "<div>\n",
       "<style scoped>\n",
       "    .dataframe tbody tr th:only-of-type {\n",
       "        vertical-align: middle;\n",
       "    }\n",
       "\n",
       "    .dataframe tbody tr th {\n",
       "        vertical-align: top;\n",
       "    }\n",
       "\n",
       "    .dataframe thead th {\n",
       "        text-align: right;\n",
       "    }\n",
       "</style>\n",
       "<table border=\"1\" class=\"dataframe\">\n",
       "  <thead>\n",
       "    <tr style=\"text-align: right;\">\n",
       "      <th></th>\n",
       "      <th>Date</th>\n",
       "      <th>Open</th>\n",
       "      <th>High</th>\n",
       "      <th>Low</th>\n",
       "      <th>Close</th>\n",
       "      <th>Volume</th>\n",
       "    </tr>\n",
       "  </thead>\n",
       "  <tbody>\n",
       "    <tr>\n",
       "      <th>0</th>\n",
       "      <td>2019-11-18</td>\n",
       "      <td>66.45</td>\n",
       "      <td>66.86</td>\n",
       "      <td>66.06</td>\n",
       "      <td>66.78</td>\n",
       "      <td>86,803,600</td>\n",
       "    </tr>\n",
       "    <tr>\n",
       "      <th>1</th>\n",
       "      <td>2019-11-15</td>\n",
       "      <td>65.92</td>\n",
       "      <td>66.45</td>\n",
       "      <td>65.75</td>\n",
       "      <td>66.44</td>\n",
       "      <td>100,374,680</td>\n",
       "    </tr>\n",
       "    <tr>\n",
       "      <th>2</th>\n",
       "      <td>2019-11-14</td>\n",
       "      <td>65.94</td>\n",
       "      <td>66.22</td>\n",
       "      <td>65.53</td>\n",
       "      <td>65.66</td>\n",
       "      <td>89,582,244</td>\n",
       "    </tr>\n",
       "    <tr>\n",
       "      <th>3</th>\n",
       "      <td>2019-11-13</td>\n",
       "      <td>65.28</td>\n",
       "      <td>66.20</td>\n",
       "      <td>65.27</td>\n",
       "      <td>66.12</td>\n",
       "      <td>103,270,360</td>\n",
       "    </tr>\n",
       "    <tr>\n",
       "      <th>4</th>\n",
       "      <td>2019-11-12</td>\n",
       "      <td>65.39</td>\n",
       "      <td>65.70</td>\n",
       "      <td>65.23</td>\n",
       "      <td>65.49</td>\n",
       "      <td>87,388,920</td>\n",
       "    </tr>\n",
       "  </tbody>\n",
       "</table>\n",
       "</div>"
      ],
      "text/plain": [
       "        Date   Open   High    Low  Close       Volume\n",
       "0 2019-11-18  66.45  66.86  66.06  66.78   86,803,600\n",
       "1 2019-11-15  65.92  66.45  65.75  66.44  100,374,680\n",
       "2 2019-11-14  65.94  66.22  65.53  65.66   89,582,244\n",
       "3 2019-11-13  65.28  66.20  65.27  66.12  103,270,360\n",
       "4 2019-11-12  65.39  65.70  65.23  65.49   87,388,920"
      ]
     },
     "execution_count": 25,
     "metadata": {},
     "output_type": "execute_result"
    }
   ],
   "source": [
    "df.head()"
   ]
  },
  {
   "cell_type": "markdown",
   "metadata": {},
   "source": [
    "We need to convert the values from string to float type. Otherwise, it won't work."
   ]
  },
  {
   "cell_type": "code",
   "execution_count": 26,
   "metadata": {},
   "outputs": [],
   "source": [
    "df['Volume'] = df['Volume'].apply(lambda x: float(x.replace(\",\", \"\")))"
   ]
  },
  {
   "cell_type": "code",
   "execution_count": 27,
   "metadata": {},
   "outputs": [
    {
     "data": {
      "text/html": [
       "<div>\n",
       "<style scoped>\n",
       "    .dataframe tbody tr th:only-of-type {\n",
       "        vertical-align: middle;\n",
       "    }\n",
       "\n",
       "    .dataframe tbody tr th {\n",
       "        vertical-align: top;\n",
       "    }\n",
       "\n",
       "    .dataframe thead th {\n",
       "        text-align: right;\n",
       "    }\n",
       "</style>\n",
       "<table border=\"1\" class=\"dataframe\">\n",
       "  <thead>\n",
       "    <tr style=\"text-align: right;\">\n",
       "      <th></th>\n",
       "      <th>Date</th>\n",
       "      <th>Open</th>\n",
       "      <th>High</th>\n",
       "      <th>Low</th>\n",
       "      <th>Close</th>\n",
       "      <th>Volume</th>\n",
       "    </tr>\n",
       "  </thead>\n",
       "  <tbody>\n",
       "    <tr>\n",
       "      <th>0</th>\n",
       "      <td>2019-11-18</td>\n",
       "      <td>66.45</td>\n",
       "      <td>66.86</td>\n",
       "      <td>66.06</td>\n",
       "      <td>66.78</td>\n",
       "      <td>86803600.0</td>\n",
       "    </tr>\n",
       "    <tr>\n",
       "      <th>1</th>\n",
       "      <td>2019-11-15</td>\n",
       "      <td>65.92</td>\n",
       "      <td>66.45</td>\n",
       "      <td>65.75</td>\n",
       "      <td>66.44</td>\n",
       "      <td>100374680.0</td>\n",
       "    </tr>\n",
       "    <tr>\n",
       "      <th>2</th>\n",
       "      <td>2019-11-14</td>\n",
       "      <td>65.94</td>\n",
       "      <td>66.22</td>\n",
       "      <td>65.53</td>\n",
       "      <td>65.66</td>\n",
       "      <td>89582244.0</td>\n",
       "    </tr>\n",
       "    <tr>\n",
       "      <th>3</th>\n",
       "      <td>2019-11-13</td>\n",
       "      <td>65.28</td>\n",
       "      <td>66.20</td>\n",
       "      <td>65.27</td>\n",
       "      <td>66.12</td>\n",
       "      <td>103270360.0</td>\n",
       "    </tr>\n",
       "    <tr>\n",
       "      <th>4</th>\n",
       "      <td>2019-11-12</td>\n",
       "      <td>65.39</td>\n",
       "      <td>65.70</td>\n",
       "      <td>65.23</td>\n",
       "      <td>65.49</td>\n",
       "      <td>87388920.0</td>\n",
       "    </tr>\n",
       "  </tbody>\n",
       "</table>\n",
       "</div>"
      ],
      "text/plain": [
       "        Date   Open   High    Low  Close       Volume\n",
       "0 2019-11-18  66.45  66.86  66.06  66.78   86803600.0\n",
       "1 2019-11-15  65.92  66.45  65.75  66.44  100374680.0\n",
       "2 2019-11-14  65.94  66.22  65.53  65.66   89582244.0\n",
       "3 2019-11-13  65.28  66.20  65.27  66.12  103270360.0\n",
       "4 2019-11-12  65.39  65.70  65.23  65.49   87388920.0"
      ]
     },
     "execution_count": 27,
     "metadata": {},
     "output_type": "execute_result"
    }
   ],
   "source": [
    "df.head()"
   ]
  },
  {
   "cell_type": "code",
   "execution_count": 33,
   "metadata": {},
   "outputs": [
    {
     "data": {
      "text/plain": [
       "Date      datetime64[ns]\n",
       "Open             float64\n",
       "High             float64\n",
       "Low              float64\n",
       "Close            float64\n",
       "Volume           float64\n",
       "dtype: object"
      ]
     },
     "execution_count": 33,
     "metadata": {},
     "output_type": "execute_result"
    }
   ],
   "source": [
    "df.dtypes"
   ]
  },
  {
   "cell_type": "code",
   "execution_count": 41,
   "metadata": {},
   "outputs": [
    {
     "data": {
      "text/html": [
       "<div>\n",
       "<style scoped>\n",
       "    .dataframe tbody tr th:only-of-type {\n",
       "        vertical-align: middle;\n",
       "    }\n",
       "\n",
       "    .dataframe tbody tr th {\n",
       "        vertical-align: top;\n",
       "    }\n",
       "\n",
       "    .dataframe thead th {\n",
       "        text-align: right;\n",
       "    }\n",
       "</style>\n",
       "<table border=\"1\" class=\"dataframe\">\n",
       "  <thead>\n",
       "    <tr style=\"text-align: right;\">\n",
       "      <th></th>\n",
       "      <th>Date</th>\n",
       "      <th>Open</th>\n",
       "      <th>High</th>\n",
       "      <th>Low</th>\n",
       "      <th>Close</th>\n",
       "      <th>Volume</th>\n",
       "    </tr>\n",
       "  </thead>\n",
       "  <tbody>\n",
       "    <tr>\n",
       "      <th>250</th>\n",
       "      <td>2018-11-19</td>\n",
       "      <td>47.50</td>\n",
       "      <td>47.68</td>\n",
       "      <td>46.25</td>\n",
       "      <td>46.47</td>\n",
       "      <td>167683484.0</td>\n",
       "    </tr>\n",
       "    <tr>\n",
       "      <th>249</th>\n",
       "      <td>2018-11-20</td>\n",
       "      <td>44.59</td>\n",
       "      <td>45.37</td>\n",
       "      <td>43.88</td>\n",
       "      <td>44.25</td>\n",
       "      <td>271301000.0</td>\n",
       "    </tr>\n",
       "    <tr>\n",
       "      <th>248</th>\n",
       "      <td>2018-11-21</td>\n",
       "      <td>44.93</td>\n",
       "      <td>45.07</td>\n",
       "      <td>44.14</td>\n",
       "      <td>44.20</td>\n",
       "      <td>124496844.0</td>\n",
       "    </tr>\n",
       "    <tr>\n",
       "      <th>247</th>\n",
       "      <td>2018-11-23</td>\n",
       "      <td>43.74</td>\n",
       "      <td>44.15</td>\n",
       "      <td>43.03</td>\n",
       "      <td>43.07</td>\n",
       "      <td>94495884.0</td>\n",
       "    </tr>\n",
       "    <tr>\n",
       "      <th>246</th>\n",
       "      <td>2018-11-26</td>\n",
       "      <td>43.56</td>\n",
       "      <td>43.74</td>\n",
       "      <td>42.57</td>\n",
       "      <td>43.66</td>\n",
       "      <td>179994080.0</td>\n",
       "    </tr>\n",
       "    <tr>\n",
       "      <th>...</th>\n",
       "      <td>...</td>\n",
       "      <td>...</td>\n",
       "      <td>...</td>\n",
       "      <td>...</td>\n",
       "      <td>...</td>\n",
       "      <td>...</td>\n",
       "    </tr>\n",
       "    <tr>\n",
       "      <th>759</th>\n",
       "      <td>2022-11-09</td>\n",
       "      <td>138.50</td>\n",
       "      <td>138.55</td>\n",
       "      <td>134.59</td>\n",
       "      <td>134.87</td>\n",
       "      <td>74917789.0</td>\n",
       "    </tr>\n",
       "    <tr>\n",
       "      <th>758</th>\n",
       "      <td>2022-11-10</td>\n",
       "      <td>141.24</td>\n",
       "      <td>146.87</td>\n",
       "      <td>139.50</td>\n",
       "      <td>146.87</td>\n",
       "      <td>118854000.0</td>\n",
       "    </tr>\n",
       "    <tr>\n",
       "      <th>757</th>\n",
       "      <td>2022-11-11</td>\n",
       "      <td>145.82</td>\n",
       "      <td>150.01</td>\n",
       "      <td>144.37</td>\n",
       "      <td>149.70</td>\n",
       "      <td>93979672.0</td>\n",
       "    </tr>\n",
       "    <tr>\n",
       "      <th>756</th>\n",
       "      <td>2022-11-14</td>\n",
       "      <td>148.97</td>\n",
       "      <td>150.28</td>\n",
       "      <td>147.43</td>\n",
       "      <td>148.28</td>\n",
       "      <td>73374109.0</td>\n",
       "    </tr>\n",
       "    <tr>\n",
       "      <th>755</th>\n",
       "      <td>2022-11-15</td>\n",
       "      <td>152.22</td>\n",
       "      <td>153.59</td>\n",
       "      <td>148.56</td>\n",
       "      <td>150.04</td>\n",
       "      <td>89868328.0</td>\n",
       "    </tr>\n",
       "  </tbody>\n",
       "</table>\n",
       "<p>1008 rows × 6 columns</p>\n",
       "</div>"
      ],
      "text/plain": [
       "          Date    Open    High     Low   Close       Volume\n",
       "250 2018-11-19   47.50   47.68   46.25   46.47  167683484.0\n",
       "249 2018-11-20   44.59   45.37   43.88   44.25  271301000.0\n",
       "248 2018-11-21   44.93   45.07   44.14   44.20  124496844.0\n",
       "247 2018-11-23   43.74   44.15   43.03   43.07   94495884.0\n",
       "246 2018-11-26   43.56   43.74   42.57   43.66  179994080.0\n",
       "..         ...     ...     ...     ...     ...          ...\n",
       "759 2022-11-09  138.50  138.55  134.59  134.87   74917789.0\n",
       "758 2022-11-10  141.24  146.87  139.50  146.87  118854000.0\n",
       "757 2022-11-11  145.82  150.01  144.37  149.70   93979672.0\n",
       "756 2022-11-14  148.97  150.28  147.43  148.28   73374109.0\n",
       "755 2022-11-15  152.22  153.59  148.56  150.04   89868328.0\n",
       "\n",
       "[1008 rows x 6 columns]"
      ]
     },
     "execution_count": 41,
     "metadata": {},
     "output_type": "execute_result"
    }
   ],
   "source": [
    "df = df.sort_values('Date')\n",
    "df"
   ]
  },
  {
   "cell_type": "code",
   "execution_count": 42,
   "metadata": {},
   "outputs": [],
   "source": [
    "df.to_csv('data/AAPL.csv',index=False)"
   ]
  },
  {
   "cell_type": "code",
   "execution_count": 43,
   "metadata": {},
   "outputs": [
    {
     "data": {
      "text/html": [
       "<div>\n",
       "<style scoped>\n",
       "    .dataframe tbody tr th:only-of-type {\n",
       "        vertical-align: middle;\n",
       "    }\n",
       "\n",
       "    .dataframe tbody tr th {\n",
       "        vertical-align: top;\n",
       "    }\n",
       "\n",
       "    .dataframe thead th {\n",
       "        text-align: right;\n",
       "    }\n",
       "</style>\n",
       "<table border=\"1\" class=\"dataframe\">\n",
       "  <thead>\n",
       "    <tr style=\"text-align: right;\">\n",
       "      <th></th>\n",
       "      <th>Date</th>\n",
       "      <th>Open</th>\n",
       "      <th>High</th>\n",
       "      <th>Low</th>\n",
       "      <th>Close</th>\n",
       "      <th>Volume</th>\n",
       "    </tr>\n",
       "  </thead>\n",
       "  <tbody>\n",
       "    <tr>\n",
       "      <th>0</th>\n",
       "      <td>2018-11-19</td>\n",
       "      <td>47.50</td>\n",
       "      <td>47.68</td>\n",
       "      <td>46.25</td>\n",
       "      <td>46.47</td>\n",
       "      <td>167683484.0</td>\n",
       "    </tr>\n",
       "    <tr>\n",
       "      <th>1</th>\n",
       "      <td>2018-11-20</td>\n",
       "      <td>44.59</td>\n",
       "      <td>45.37</td>\n",
       "      <td>43.88</td>\n",
       "      <td>44.25</td>\n",
       "      <td>271301000.0</td>\n",
       "    </tr>\n",
       "    <tr>\n",
       "      <th>2</th>\n",
       "      <td>2018-11-21</td>\n",
       "      <td>44.93</td>\n",
       "      <td>45.07</td>\n",
       "      <td>44.14</td>\n",
       "      <td>44.20</td>\n",
       "      <td>124496844.0</td>\n",
       "    </tr>\n",
       "    <tr>\n",
       "      <th>3</th>\n",
       "      <td>2018-11-23</td>\n",
       "      <td>43.74</td>\n",
       "      <td>44.15</td>\n",
       "      <td>43.03</td>\n",
       "      <td>43.07</td>\n",
       "      <td>94495884.0</td>\n",
       "    </tr>\n",
       "    <tr>\n",
       "      <th>4</th>\n",
       "      <td>2018-11-26</td>\n",
       "      <td>43.56</td>\n",
       "      <td>43.74</td>\n",
       "      <td>42.57</td>\n",
       "      <td>43.66</td>\n",
       "      <td>179994080.0</td>\n",
       "    </tr>\n",
       "    <tr>\n",
       "      <th>...</th>\n",
       "      <td>...</td>\n",
       "      <td>...</td>\n",
       "      <td>...</td>\n",
       "      <td>...</td>\n",
       "      <td>...</td>\n",
       "      <td>...</td>\n",
       "    </tr>\n",
       "    <tr>\n",
       "      <th>1003</th>\n",
       "      <td>2022-11-09</td>\n",
       "      <td>138.50</td>\n",
       "      <td>138.55</td>\n",
       "      <td>134.59</td>\n",
       "      <td>134.87</td>\n",
       "      <td>74917789.0</td>\n",
       "    </tr>\n",
       "    <tr>\n",
       "      <th>1004</th>\n",
       "      <td>2022-11-10</td>\n",
       "      <td>141.24</td>\n",
       "      <td>146.87</td>\n",
       "      <td>139.50</td>\n",
       "      <td>146.87</td>\n",
       "      <td>118854000.0</td>\n",
       "    </tr>\n",
       "    <tr>\n",
       "      <th>1005</th>\n",
       "      <td>2022-11-11</td>\n",
       "      <td>145.82</td>\n",
       "      <td>150.01</td>\n",
       "      <td>144.37</td>\n",
       "      <td>149.70</td>\n",
       "      <td>93979672.0</td>\n",
       "    </tr>\n",
       "    <tr>\n",
       "      <th>1006</th>\n",
       "      <td>2022-11-14</td>\n",
       "      <td>148.97</td>\n",
       "      <td>150.28</td>\n",
       "      <td>147.43</td>\n",
       "      <td>148.28</td>\n",
       "      <td>73374109.0</td>\n",
       "    </tr>\n",
       "    <tr>\n",
       "      <th>1007</th>\n",
       "      <td>2022-11-15</td>\n",
       "      <td>152.22</td>\n",
       "      <td>153.59</td>\n",
       "      <td>148.56</td>\n",
       "      <td>150.04</td>\n",
       "      <td>89868328.0</td>\n",
       "    </tr>\n",
       "  </tbody>\n",
       "</table>\n",
       "<p>1008 rows × 6 columns</p>\n",
       "</div>"
      ],
      "text/plain": [
       "            Date    Open    High     Low   Close       Volume\n",
       "0     2018-11-19   47.50   47.68   46.25   46.47  167683484.0\n",
       "1     2018-11-20   44.59   45.37   43.88   44.25  271301000.0\n",
       "2     2018-11-21   44.93   45.07   44.14   44.20  124496844.0\n",
       "3     2018-11-23   43.74   44.15   43.03   43.07   94495884.0\n",
       "4     2018-11-26   43.56   43.74   42.57   43.66  179994080.0\n",
       "...          ...     ...     ...     ...     ...          ...\n",
       "1003  2022-11-09  138.50  138.55  134.59  134.87   74917789.0\n",
       "1004  2022-11-10  141.24  146.87  139.50  146.87  118854000.0\n",
       "1005  2022-11-11  145.82  150.01  144.37  149.70   93979672.0\n",
       "1006  2022-11-14  148.97  150.28  147.43  148.28   73374109.0\n",
       "1007  2022-11-15  152.22  153.59  148.56  150.04   89868328.0\n",
       "\n",
       "[1008 rows x 6 columns]"
      ]
     },
     "execution_count": 43,
     "metadata": {},
     "output_type": "execute_result"
    }
   ],
   "source": [
    "new_df = pd.read_csv('data/AAPL.csv')\n",
    "new_df"
   ]
  },
  {
   "cell_type": "markdown",
   "metadata": {},
   "source": [
    "Trading Inferences by running different algorithms - \n",
    "\n",
    "The following battles will be performed between different players. \n",
    "For each of these games the different Computer Players will be configured with default hyper parameters\n"
   ]
  },
  {
   "cell_type": "markdown",
   "metadata": {},
   "source": [
    "PPO ALgorithm"
   ]
  },
  {
   "cell_type": "code",
   "execution_count": 1,
   "metadata": {},
   "outputs": [
    {
     "name": "stderr",
     "output_type": "stream",
     "text": [
      "/opt/homebrew/lib/python3.10/site-packages/tqdm/auto.py:22: TqdmWarning: IProgress not found. Please update jupyter and ipywidgets. See https://ipywidgets.readthedocs.io/en/stable/user_install.html\n",
      "  from .autonotebook import tqdm as notebook_tqdm\n"
     ]
    }
   ],
   "source": [
    "from stocktrade import *"
   ]
  },
  {
   "cell_type": "code",
   "execution_count": 2,
   "metadata": {},
   "outputs": [
    {
     "name": "stderr",
     "output_type": "stream",
     "text": [
      "Failed to detect the name of this notebook, you can set it manually with the WANDB_NOTEBOOK_NAME environment variable to enable code saving.\n"
     ]
    },
    {
     "ename": "",
     "evalue": "",
     "output_type": "error",
     "traceback": [
      "\u001b[1;31mThe Kernel crashed while executing code in the the current cell or a previous cell. Please review the code in the cell(s) to identify a possible cause of the failure. Click <a href='https://aka.ms/vscodeJupyterKernelCrash'>here</a> for more info. View Jupyter <a href='command:jupyter.viewOutput'>log</a> for further details."
     ]
    },
    {
     "ename": "",
     "evalue": "",
     "output_type": "error",
     "traceback": [
      "\u001b[1;31mCanceled future for execute_request message before replies were done"
     ]
    }
   ],
   "source": [
    "#### 6.1 PPO over 10000 time steps\n",
    "if __name__ == \"__main__\":\n",
    "    timesteps = 1000000\n",
    "    algo = \"PPO\"\n",
    "    stocktrade(algo,timesteps)"
   ]
  },
  {
   "cell_type": "markdown",
   "metadata": {},
   "source": [
    "A2C Algorithm"
   ]
  },
  {
   "cell_type": "code",
   "execution_count": null,
   "metadata": {},
   "outputs": [],
   "source": [
    "#### 6.1 PPO over 10000 time steps\n",
    "if __name__ == \"__main__\":\n",
    "    timesteps = 100\n",
    "    algo = \"A2C\"\n",
    "    stocktrade(algo,timesteps)"
   ]
  },
  {
   "cell_type": "markdown",
   "metadata": {},
   "source": [
    "SAC Algorithm"
   ]
  },
  {
   "cell_type": "code",
   "execution_count": null,
   "metadata": {},
   "outputs": [],
   "source": [
    "#### 6.1 PPO over 10000 time steps\n",
    "if __name__ == \"__main__\":\n",
    "    timesteps = 100\n",
    "    algo = \"A2C\"\n",
    "    stocktrade(algo,timesteps)"
   ]
  }
 ],
 "metadata": {
  "kernelspec": {
   "display_name": "Python 3.10.6 64-bit",
   "language": "python",
   "name": "python3"
  },
  "language_info": {
   "codemirror_mode": {
    "name": "ipython",
    "version": 3
   },
   "file_extension": ".py",
   "mimetype": "text/x-python",
   "name": "python",
   "nbconvert_exporter": "python",
   "pygments_lexer": "ipython3",
   "version": "3.10.6"
  },
  "orig_nbformat": 4,
  "vscode": {
   "interpreter": {
    "hash": "b0fa6594d8f4cbf19f97940f81e996739fb7646882a419484c72d19e05852a7e"
   }
  }
 },
 "nbformat": 4,
 "nbformat_minor": 2
}
